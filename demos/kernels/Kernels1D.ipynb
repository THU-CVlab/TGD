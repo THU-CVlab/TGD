{
 "cells": [
  {
   "attachments": {},
   "cell_type": "markdown",
   "metadata": {},
   "source": [
    "#  Demos for how to get TGD kenels for one-dimentional usage"
   ]
  },
  {
   "cell_type": "code",
   "execution_count": 1,
   "metadata": {},
   "outputs": [
    {
     "name": "stdout",
     "output_type": "stream",
     "text": [
      "Looking in indexes: https://test.pypi.org/simple/\n",
      "Requirement already satisfied: TGD==0.9.1 in /Users/red/miniconda3/lib/python3.10/site-packages (0.9.1)\n"
     ]
    }
   ],
   "source": [
    "# get the TGD lib\n",
    "! pip install -i https://test.pypi.org/simple/ TGD==0.9.1\n",
    "\n",
    "from TGD import TGDkernel\n",
    "import matplotlib.pyplot as plt"
   ]
  },
  {
   "cell_type": "code",
   "execution_count": 2,
   "metadata": {},
   "outputs": [],
   "source": [
    "# get the TGD kernel\n",
    "tgd = TGDkernel()\n",
    "# prepare parametere\n",
    "semi_width = 20\n",
    "gauss_param = {'delta': 6.6}\n",
    "exp_param = {'k': 1, 'delta': 0.17}\n",
    "line_param = {'k': 2, 'b': semi_width * 2 + 0.4}\n",
    "landau_param = {'c':7/16, 'n':3, 'r':semi_width+1}\n",
    "weibull_param = {'k':1, 'lambda':6}"
   ]
  },
  {
   "cell_type": "code",
   "execution_count": 3,
   "metadata": {},
   "outputs": [
    {
     "name": "stdout",
     "output_type": "stream",
     "text": [
      "[ 0.19967876  0.19988514  0.20004582  0.20016067  0.2002296   0.\n",
      " -0.2002296  -0.20016067 -0.20004582 -0.19988514 -0.19967876]\n",
      "0.0\n"
     ]
    }
   ],
   "source": [
    "x,kernel = tgd.getKernel1D(derivation_order=1, radius = 0.5, kernel_size= 11, \n",
    "                        param=gauss_param, kernel_func='Gaussian')\n",
    "\n",
    "print(kernel)\n",
    "print(kernel.sum())"
   ]
  },
  {
   "cell_type": "code",
   "execution_count": 4,
   "metadata": {},
   "outputs": [
    {
     "name": "stdout",
     "output_type": "stream",
     "text": [
      "[ 0.19325845  0.19657192  0.19994222  0.20337029  0.20685713  0.\n",
      " -0.20685713 -0.20337029 -0.19994222 -0.19657192 -0.19325845]\n"
     ]
    }
   ],
   "source": [
    "x,kernel = tgd.getKernel1D(derivation_order=1, radius = 0.5, kernel_size= 11, \n",
    "                        param=exp_param, kernel_func='Exp')\n",
    "print(kernel)"
   ]
  },
  {
   "cell_type": "code",
   "execution_count": 5,
   "metadata": {},
   "outputs": [
    {
     "name": "stdout",
     "output_type": "stream",
     "text": [
      "[ 0.19325845  0.19657192  0.19994222  0.20337029  0.20685713 -2.\n",
      "  0.20685713  0.20337029  0.19994222  0.19657192  0.19325845]\n",
      "-4.4703484e-08\n"
     ]
    }
   ],
   "source": [
    "x,kernel = tgd.getKernel1D(derivation_order=2, radius = 0.5, kernel_size= 11, \n",
    "                        param=exp_param, kernel_func='Exp')\n",
    "print(kernel)\n",
    "print(kernel.sum())"
   ]
  }
 ],
 "metadata": {
  "kernelspec": {
   "display_name": "base",
   "language": "python",
   "name": "python3"
  },
  "language_info": {
   "codemirror_mode": {
    "name": "ipython",
    "version": 3
   },
   "file_extension": ".py",
   "mimetype": "text/x-python",
   "name": "python",
   "nbconvert_exporter": "python",
   "pygments_lexer": "ipython3",
   "version": "3.10.10"
  },
  "orig_nbformat": 4
 },
 "nbformat": 4,
 "nbformat_minor": 2
}
